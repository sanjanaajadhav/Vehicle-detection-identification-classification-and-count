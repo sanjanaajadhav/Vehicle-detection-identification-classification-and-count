{
  "cells": [
    {
      "cell_type": "markdown",
      "source": [
        "DATASET LINK: https://www.kaggle.com/datasets/zaraks/pascal-voc-2007"
      ],
      "metadata": {
        "id": "WNyH0upr75Ra"
      }
    },
    {
      "cell_type": "code",
      "execution_count": null,
      "metadata": {
        "id": "6WsE8PCamtU8"
      },
      "outputs": [],
      "source": [
        "import torch\n",
        "import torchvision\n",
        "from torchvision import transforms\n",
        "from torch.utils.data import DataLoader\n",
        "from torchvision.models.detection import FasterRCNN\n",
        "from torchvision.models.detection.faster_rcnn import FastRCNNPredictor\n",
        "import cv2\n",
        "import numpy as np\n",
        "from collections import defaultdict\n",
        "from sklearn.metrics import classification_report, accuracy_score, confusion_matrix\n",
        "import random\n"
      ]
    },
    {
      "cell_type": "code",
      "execution_count": null,
      "metadata": {
        "colab": {
          "base_uri": "https://localhost:8080/"
        },
        "id": "c0CUGbqQmt9C",
        "outputId": "8ffdbfe4-be7d-4c64-bad2-bab180c4468f"
      },
      "outputs": [
        {
          "name": "stdout",
          "output_type": "stream",
          "text": [
            "Downloading http://host.robots.ox.ac.uk/pascal/VOC/voc2007/VOCtrainval_06-Nov-2007.tar to ./data/VOC/VOCtrainval_06-Nov-2007.tar\n"
          ]
        },
        {
          "name": "stderr",
          "output_type": "stream",
          "text": [
            "100%|██████████| 460M/460M [00:18<00:00, 24.8MB/s]\n"
          ]
        },
        {
          "name": "stdout",
          "output_type": "stream",
          "text": [
            "Extracting ./data/VOC/VOCtrainval_06-Nov-2007.tar to ./data/VOC\n"
          ]
        },
        {
          "name": "stderr",
          "output_type": "stream",
          "text": [
            "/usr/local/lib/python3.10/dist-packages/torch/utils/data/dataloader.py:617: UserWarning: This DataLoader will create 4 worker processes in total. Our suggested max number of worker in current system is 2, which is smaller than what this DataLoader is going to create. Please be aware that excessive worker creation might get DataLoader running slow or even freeze, lower the worker number to avoid potential slowness/freeze if necessary.\n",
            "  warnings.warn(\n"
          ]
        }
      ],
      "source": [
        "import torchvision.transforms as T\n",
        "import torchvision\n",
        "import torch\n",
        "from torch.utils.data import DataLoader\n",
        "\n",
        "# Define dataset path and vehicle classes\n",
        "dataset_path = './data/VOC'\n",
        "vehicle_classes = ['car', 'truck', 'bus', 'motorbike']\n",
        "\n",
        "# Define a transformation to convert images to tensors\n",
        "transform = T.Compose([T.ToTensor()])\n",
        "\n",
        "# Load the Pascal VOC dataset with transformations for the images\n",
        "train_dataset = torchvision.datasets.VOCDetection(\n",
        "    root=dataset_path,\n",
        "    year='2007',\n",
        "    image_set='train',\n",
        "    download=True,\n",
        "    transforms=lambda img, target: (transform(img), target)  # Apply transform to images\n",
        ")\n",
        "\n",
        "# Filter and prepare the dataset to include only specified vehicle classes\n",
        "def filter_and_prepare_vehicle_classes(dataset):\n",
        "    filtered_data = []\n",
        "    for img, target in dataset:\n",
        "        annotations = target['annotation']['object']\n",
        "        filtered_annotations = [\n",
        "            obj for obj in annotations if obj['name'] in vehicle_classes\n",
        "        ]\n",
        "        if not filtered_annotations:\n",
        "            continue\n",
        "\n",
        "        # Prepare targets for Faster R-CNN\n",
        "        boxes = []\n",
        "        labels = []\n",
        "        for obj in filtered_annotations:\n",
        "            # Bounding box coordinates (xmin, ymin, xmax, ymax)\n",
        "            bndbox = obj['bndbox']\n",
        "            box = [int(bndbox['xmin']), int(bndbox['ymin']), int(bndbox['xmax']), int(bndbox['ymax'])]\n",
        "\n",
        "            boxes.append(box)\n",
        "            labels.append(vehicle_classes.index(obj['name']) + 1)  # Convert class name to index\n",
        "\n",
        "        # Convert boxes to float tensors and labels to int64 tensors\n",
        "        target_data = {\n",
        "           'boxes': torch.FloatTensor(boxes),\n",
        "           'labels': torch.IntTensor(labels).to(torch.int64)  # Ensure labels are int64\n",
        "        }\n",
        "\n",
        "        filtered_data.append((img, target_data))\n",
        "\n",
        "    return filtered_data\n",
        "\n",
        "train_dataset = filter_and_prepare_vehicle_classes(train_dataset)\n",
        "train_loader = DataLoader(train_dataset, batch_size=4, shuffle=True, num_workers=4, collate_fn=lambda x: tuple(zip(*x)))\n",
        "\n"
      ]
    },
    {
      "cell_type": "code",
      "execution_count": null,
      "metadata": {
        "colab": {
          "base_uri": "https://localhost:8080/"
        },
        "id": "GVLsI5zktshP",
        "outputId": "bbeef06c-c60f-4066-ee23-9af403f67b8f"
      },
      "outputs": [
        {
          "name": "stdout",
          "output_type": "stream",
          "text": [
            "Starting epoch 1/5\n"
          ]
        },
        {
          "name": "stderr",
          "output_type": "stream",
          "text": [
            "<ipython-input-4-4e1b85a76843>:28: UserWarning: To copy construct from a tensor, it is recommended to use sourceTensor.clone().detach() or sourceTensor.clone().detach().requires_grad_(True), rather than torch.tensor(sourceTensor).\n",
            "  targets = [{k: torch.tensor(v).to(device) for k, v in t.items()} for t in targets]\n"
          ]
        },
        {
          "name": "stdout",
          "output_type": "stream",
          "text": [
            "Starting epoch 2/5\n",
            "Starting epoch 3/5\n",
            "Starting epoch 4/5\n",
            "Starting epoch 5/5\n"
          ]
        }
      ],
      "source": [
        "#Reduced Parameters\n",
        "import torch\n",
        "import torchvision\n",
        "from torchvision.models.detection.faster_rcnn import FastRCNNPredictor\n",
        "\n",
        "# Define the model\n",
        "def get_vehicle_detection_model(num_classes):\n",
        "    model = torchvision.models.detection.fasterrcnn_resnet50_fpn(pretrained=True)\n",
        "    in_features = model.roi_heads.box_predictor.cls_score.in_features\n",
        "    model.roi_heads.box_predictor = FastRCNNPredictor(in_features, num_classes)\n",
        "    return model\n",
        "\n",
        "num_classes = len(vehicle_classes) + 1\n",
        "model = get_vehicle_detection_model(num_classes)\n",
        "device = torch.device('cuda' if torch.cuda.is_available() else 'cpu')\n",
        "model.to(device)\n",
        "\n",
        "# Adjusted training parameters for slower learning\n",
        "optimizer = torch.optim.SGD(model.parameters(), lr=0.002, momentum=0.85, weight_decay=0.0001)\n",
        "lr_scheduler = torch.optim.lr_scheduler.StepLR(optimizer, step_size=2, gamma=0.5)\n",
        "\n",
        "num_epochs = 5  # Reduced epochs for faster experimentation\n",
        "for epoch in range(num_epochs):\n",
        "    model.train()  # Set the model to training mode\n",
        "    print(f\"Starting epoch {epoch + 1}/{num_epochs}\")\n",
        "    for images, targets in train_loader:\n",
        "        images = [image.to(device) for image in images]\n",
        "        targets = [{k: torch.tensor(v).to(device) for k, v in t.items()} for t in targets]\n",
        "\n",
        "        loss_dict = model(images, targets)\n",
        "        losses = sum(loss for loss in loss_dict.values())\n",
        "\n",
        "        optimizer.zero_grad()\n",
        "        losses.backward()\n",
        "        optimizer.step()\n",
        "\n",
        "    lr_scheduler.step()\n",
        "\n",
        "torch.save(model.state_dict(), 'vehicle_detection_model_reduced_params.pth')\n"
      ]
    },
    {
      "cell_type": "code",
      "execution_count": null,
      "metadata": {
        "id": "VOZhQgqxu1zV"
      },
      "outputs": [],
      "source": [
        "#Increased Parameter\n",
        "import torch\n",
        "import torchvision\n",
        "from torchvision.models.detection.faster_rcnn import FastRCNNPredictor\n",
        "\n",
        "# Define the model\n",
        "def get_vehicle_detection_model(num_classes):\n",
        "    model = torchvision.models.detection.fasterrcnn_resnet50_fpn(pretrained=True)\n",
        "    in_features = model.roi_heads.box_predictor.cls_score.in_features\n",
        "    model.roi_heads.box_predictor = FastRCNNPredictor(in_features, num_classes)\n",
        "    return model\n",
        "\n",
        "num_classes = len(vehicle_classes) + 1\n",
        "model = get_vehicle_detection_model(num_classes)\n",
        "device = torch.device('cuda' if torch.cuda.is_available() else 'cpu')\n",
        "model.to(device)\n",
        "\n",
        "# Adjusted training parameters for faster learning\n",
        "optimizer = torch.optim.SGD(model.parameters(), lr=0.01, momentum=0.95, weight_decay=0.001)\n",
        "lr_scheduler = torch.optim.lr_scheduler.StepLR(optimizer, step_size=5, gamma=0.3)\n",
        "\n",
        "num_epochs = 15  # Increased epochs for more training time\n",
        "for epoch in range(num_epochs):\n",
        "    model.train()  # Set the model to training mode\n",
        "    print(f\"Starting epoch {epoch + 1}/{num_epochs}\")\n",
        "    for images, targets in train_loader:\n",
        "        images = [image.to(device) for image in images]\n",
        "        targets = [{k: torch.tensor(v).to(device) for k, v in t.items()} for t in targets]\n",
        "\n",
        "        loss_dict = model(images, targets)\n",
        "        losses = sum(loss for loss in loss_dict.values())\n",
        "\n",
        "        optimizer.zero_grad()\n",
        "        losses.backward()\n",
        "        optimizer.step()\n",
        "\n",
        "    lr_scheduler.step()\n",
        "\n",
        "torch.save(model.state_dict(), 'vehicle_detection_model_increased_params.pth')\n"
      ]
    },
    {
      "cell_type": "code",
      "execution_count": null,
      "metadata": {
        "colab": {
          "base_uri": "https://localhost:8080/"
        },
        "id": "tVCmy3EEmxq-",
        "outputId": "3e6394e5-6a78-4f31-ec68-2ec305c54f39"
      },
      "outputs": [
        {
          "name": "stdout",
          "output_type": "stream",
          "text": [
            "Starting epoch 1/10\n"
          ]
        },
        {
          "name": "stderr",
          "output_type": "stream",
          "text": [
            "<ipython-input-4-27660b7f874e>:23: UserWarning: To copy construct from a tensor, it is recommended to use sourceTensor.clone().detach() or sourceTensor.clone().detach().requires_grad_(True), rather than torch.tensor(sourceTensor).\n",
            "  targets = [{k: torch.tensor(v).to(device) for k, v in t.items()} for t in targets]\n"
          ]
        },
        {
          "name": "stdout",
          "output_type": "stream",
          "text": [
            "Starting epoch 2/10\n",
            "Starting epoch 3/10\n",
            "Starting epoch 4/10\n",
            "Starting epoch 5/10\n",
            "Starting epoch 6/10\n",
            "Starting epoch 7/10\n",
            "Starting epoch 8/10\n",
            "Starting epoch 9/10\n",
            "Starting epoch 10/10\n"
          ]
        }
      ],
      "source": [
        "# Define the model\n",
        "def get_vehicle_detection_model(num_classes):\n",
        "    model = torchvision.models.detection.fasterrcnn_resnet50_fpn(pretrained=True)\n",
        "    in_features = model.roi_heads.box_predictor.cls_score.in_features\n",
        "    model.roi_heads.box_predictor = FastRCNNPredictor(in_features, num_classes)\n",
        "    return model\n",
        "\n",
        "num_classes = len(vehicle_classes) + 1\n",
        "model = get_vehicle_detection_model(num_classes)\n",
        "device = torch.device('cuda' if torch.cuda.is_available() else 'cpu')\n",
        "model.to(device)\n",
        "\n",
        "# Train the model\n",
        "optimizer = torch.optim.SGD(model.parameters(), lr=0.005, momentum=0.9, weight_decay=0.0005)\n",
        "lr_scheduler = torch.optim.lr_scheduler.StepLR(optimizer, step_size=3, gamma=0.1)\n",
        "\n",
        "num_epochs = 10  # Set the number of epochs\n",
        "for epoch in range(num_epochs):\n",
        "    model.train()  # Set the model to training mode\n",
        "    print(f\"Starting epoch {epoch + 1}/{num_epochs}\")\n",
        "    for images, targets in train_loader:\n",
        "        images = [image.to(device) for image in images]\n",
        "        targets = [{k: torch.tensor(v).to(device) for k, v in t.items()} for t in targets]\n",
        "\n",
        "        loss_dict = model(images, targets)\n",
        "        losses = sum(loss for loss in loss_dict.values())\n",
        "\n",
        "        optimizer.zero_grad()\n",
        "        losses.backward()\n",
        "        optimizer.step()\n",
        "\n",
        "    lr_scheduler.step()\n",
        "\n",
        "torch.save(model.state_dict(), 'vehicle_detection_model.pth')\n"
      ]
    },
    {
      "cell_type": "code",
      "execution_count": null,
      "metadata": {
        "colab": {
          "base_uri": "https://localhost:8080/"
        },
        "id": "ID4hJur2m0tc",
        "outputId": "77377bef-a36d-41f2-e0c1-43ddda0ba9c8"
      },
      "outputs": [
        {
          "name": "stderr",
          "output_type": "stream",
          "text": [
            "<ipython-input-8-2758d0053b00>:3: FutureWarning: You are using `torch.load` with `weights_only=False` (the current default value), which uses the default pickle module implicitly. It is possible to construct malicious pickle data which will execute arbitrary code during unpickling (See https://github.com/pytorch/pytorch/blob/main/SECURITY.md#untrusted-models for more details). In a future release, the default value for `weights_only` will be flipped to `True`. This limits the functions that could be executed during unpickling. Arbitrary objects will no longer be allowed to be loaded via this mode unless they are explicitly allowlisted by the user via `torch.serialization.add_safe_globals`. We recommend you start setting `weights_only=True` for any use case where you don't have full control of the loaded file. Please open an issue on GitHub for any issues related to this experimental feature.\n",
            "  model.load_state_dict(torch.load('vehicle_detection_model_reduced_params.pth'))\n"
          ]
        }
      ],
      "source": [
        "# Reload model for inference\n",
        "model = get_vehicle_detection_model(num_classes)\n",
        "model.load_state_dict(torch.load('vehicle_detection_model_reduced_params.pth'))\n",
        "model.to(device)\n",
        "model.eval()\n",
        "\n",
        "# Function to process each frame of video and display detections\n",
        "# Define a color mapping for each vehicle class if not defined in another cell\n",
        "color_mapping = {\n",
        "    'car': (0, 0, 255),       # Red\n",
        "    'truck': (255, 0, 0),     # Blue\n",
        "    'bus': (0, 255, 0),       # Green\n",
        "    'motorbike': (0, 255, 255) # Yellow\n",
        "}\n",
        "\n",
        "# Modify the process_frame function\n",
        "def process_frame(frame):\n",
        "    transform = transforms.ToTensor()\n",
        "    frame_tensor = transform(frame).unsqueeze(0).to(device)\n",
        "\n",
        "    # Run model inference\n",
        "    with torch.no_grad():\n",
        "        predictions = model(frame_tensor)\n",
        "\n",
        "    # Count and draw detections\n",
        "    frame_vehicle_count = defaultdict(int)\n",
        "    for i, label in enumerate(predictions[0]['labels']):\n",
        "        score = predictions[0]['scores'][i]\n",
        "        if score > 0.5:\n",
        "            x1, y1, x2, y2 = predictions[0]['boxes'][i].cpu().numpy().astype(int)\n",
        "            vehicle_type = vehicle_classes[label.item() - 1]\n",
        "            frame_vehicle_count[vehicle_type] += 1\n",
        "\n",
        "            # Get the color for the specific vehicle class\n",
        "            color = color_mapping.get(vehicle_type, (0, 255, 0))\n",
        "\n",
        "            # Draw bounding box with specific color\n",
        "            cv2.rectangle(frame, (x1, y1), (x2, y2), color, 2)\n",
        "\n",
        "            # Display class name and confidence score\n",
        "            text = f\"{vehicle_type} {score:.2f}\"  # Format text to include name and score\n",
        "            cv2.putText(frame, text, (x1, y1 - 10), cv2.FONT_HERSHEY_SIMPLEX, 0.5, color, 2)\n",
        "\n",
        "    return frame, frame_vehicle_count\n"
      ]
    },
    {
      "cell_type": "code",
      "execution_count": null,
      "metadata": {
        "id": "FVARvKeam2Ti"
      },
      "outputs": [],
      "source": [
        "def process_video(input_path, output_path):\n",
        "    cap = cv2.VideoCapture(input_path)\n",
        "    width = int(cap.get(cv2.CAP_PROP_FRAME_WIDTH))\n",
        "    height = int(cap.get(cv2.CAP_PROP_FRAME_HEIGHT))\n",
        "    fps = int(cap.get(cv2.CAP_PROP_FPS))\n",
        "\n",
        "    # Set up video writer with additional space for frame count display\n",
        "    frame_count_height = 30\n",
        "    total_height = height + frame_count_height\n",
        "    fourcc = cv2.VideoWriter_fourcc(*'mp4v')\n",
        "    out = cv2.VideoWriter(output_path, fourcc, fps, (width, total_height))\n",
        "\n",
        "    frame_number = 0\n",
        "\n",
        "    while cap.isOpened():\n",
        "        ret, frame = cap.read()\n",
        "        if not ret:\n",
        "            break\n",
        "\n",
        "        # Process each frame\n",
        "        frame, frame_vehicle_count = process_frame(frame)\n",
        "\n",
        "        # Create a black strip at the bottom for frame count\n",
        "        frame_with_count = np.zeros((total_height, width, 3), dtype=np.uint8)\n",
        "        frame_with_count[:height, :] = frame\n",
        "\n",
        "        # Display frame count on the black strip\n",
        "        frame_number += 1\n",
        "        font = cv2.FONT_HERSHEY_COMPLEX_SMALL\n",
        "        font_scale = 0.8\n",
        "        font_thickness = 1\n",
        "        text = f\"Frame: {frame_number}\"\n",
        "        text_size, _ = cv2.getTextSize(text, font, font_scale, font_thickness)\n",
        "        text_x = (width - text_size[0]) // 2\n",
        "        text_y = height + (frame_count_height + text_size[1]) // 2\n",
        "        cv2.putText(frame_with_count, text, (text_x, text_y), font, font_scale, (255, 255, 255), font_thickness)\n",
        "\n",
        "        # Write the frame with bounding boxes to output\n",
        "        from google.colab.patches import cv2_imshow\n",
        "        out.write(frame_with_count)\n",
        "        cv2_imshow(frame_with_count)\n",
        "        print(\"Vehicle count in frame:\", frame_vehicle_count)\n",
        "\n",
        "        if cv2.waitKey(1) & 0xFF == ord('q'):\n",
        "            break\n",
        "\n",
        "    cap.release()\n",
        "    out.release()\n",
        "    cv2.destroyAllWindows()\n"
      ]
    },
    {
      "cell_type": "code",
      "execution_count": null,
      "metadata": {
        "colab": {
          "background_save": true
        },
        "id": "-UV55yR9m8Gd"
      },
      "outputs": [],
      "source": [
        "process_video('/content/input_video.mp4', 'output_video.mp4')\n"
      ]
    },
    {
      "cell_type": "code",
      "execution_count": null,
      "metadata": {
        "colab": {
          "base_uri": "https://localhost:8080/",
          "height": 745
        },
        "id": "HsDE8kntyrDs",
        "outputId": "9f1e711e-c33e-48e6-fa16-6c6f360e6234"
      },
      "outputs": [
        {
          "output_type": "stream",
          "name": "stderr",
          "text": [
            "/usr/local/lib/python3.10/dist-packages/torch/utils/data/dataloader.py:617: UserWarning: This DataLoader will create 4 worker processes in total. Our suggested max number of worker in current system is 2, which is smaller than what this DataLoader is going to create. Please be aware that excessive worker creation might get DataLoader running slow or even freeze, lower the worker number to avoid potential slowness/freeze if necessary.\n",
            "  warnings.warn(\n",
            "/usr/local/lib/python3.10/dist-packages/sklearn/metrics/_classification.py:1531: UndefinedMetricWarning: Precision is ill-defined and being set to 0.0 in labels with no predicted samples. Use `zero_division` parameter to control this behavior.\n",
            "  _warn_prf(average, modifier, f\"{metric.capitalize()} is\", len(result))\n",
            "/usr/local/lib/python3.10/dist-packages/sklearn/metrics/_classification.py:1531: UndefinedMetricWarning: Recall is ill-defined and being set to 0.0 in labels with no true samples. Use `zero_division` parameter to control this behavior.\n",
            "  _warn_prf(average, modifier, f\"{metric.capitalize()} is\", len(result))\n",
            "/usr/local/lib/python3.10/dist-packages/sklearn/metrics/_classification.py:1531: UndefinedMetricWarning: F-score is ill-defined and being set to 0.0 in labels with no true nor predicted samples. Use `zero_division` parameter to control this behavior.\n",
            "  _warn_prf(average, modifier, f\"{metric.capitalize()} is\", len(result))\n"
          ]
        },
        {
          "output_type": "stream",
          "name": "stdout",
          "text": [
            "Accuracy: 0.9003\n",
            "Precision: 0.8999\n",
            "Recall: 0.9003\n",
            "F1 Score: 0.9000\n"
          ]
        },
        {
          "output_type": "display_data",
          "data": {
            "text/plain": [
              "<Figure size 1000x700 with 2 Axes>"
            ],
            "image/png": "[encoded data removed]"
          },
          "metadata": {}
        }
      ],
      "source": [
        "from sklearn.metrics import confusion_matrix, accuracy_score, precision_score, recall_score, f1_score\n",
        "import matplotlib.pyplot as plt\n",
        "import seaborn as sns\n",
        "\n",
        "def evaluate_model(model, data_loader, iou_threshold=0.5):\n",
        "    model.eval()  # Set the model to evaluation mode\n",
        "    all_true_labels = []\n",
        "    all_pred_labels = []\n",
        "\n",
        "    with torch.no_grad():\n",
        "        for images, targets in data_loader:\n",
        "            images = [img.to(device) for img in images]\n",
        "            outputs = model(images)\n",
        "\n",
        "            for i, output in enumerate(outputs):\n",
        "                # Predicted labels\n",
        "                pred_labels = output['labels'].cpu().numpy()\n",
        "                pred_scores = output['scores'].cpu().numpy()\n",
        "\n",
        "                # Ground truth labels\n",
        "                target_labels = targets[i]['labels'].cpu().numpy()\n",
        "\n",
        "                # Filter predictions by confidence score (e.g., > 0.5)\n",
        "                high_conf_indices = pred_scores >= 0.5\n",
        "                pred_labels = pred_labels[high_conf_indices]\n",
        "\n",
        "                # Ensure the true and predicted labels have the same length for evaluation\n",
        "                min_len = min(len(pred_labels), len(target_labels))\n",
        "                all_pred_labels.extend(pred_labels[:min_len])\n",
        "                all_true_labels.extend(target_labels[:min_len])\n",
        "\n",
        "    # Convert to class names\n",
        "    true_labels = [vehicle_classes[label - 1] for label in all_true_labels]\n",
        "    pred_labels = [vehicle_classes[label - 1] for label in all_pred_labels]\n",
        "\n",
        "    # Confusion matrix and metrics\n",
        "    cm = confusion_matrix(true_labels, pred_labels, labels=vehicle_classes)\n",
        "    accuracy = accuracy_score(true_labels, pred_labels)\n",
        "    precision = precision_score(true_labels, pred_labels, labels=vehicle_classes, average='weighted')\n",
        "    recall = recall_score(true_labels, pred_labels, labels=vehicle_classes, average='weighted')\n",
        "    f1 = f1_score(true_labels, pred_labels, labels=vehicle_classes, average='weighted')\n",
        "\n",
        "    print(f\"Accuracy: {accuracy:.4f}\")\n",
        "    print(f\"Precision: {precision:.4f}\")\n",
        "    print(f\"Recall: {recall:.4f}\")\n",
        "    print(f\"F1 Score: {f1:.4f}\")\n",
        "\n",
        "    # Plot confusion matrix\n",
        "    plt.figure(figsize=(10, 7))\n",
        "    sns.heatmap(cm, annot=True, fmt='d', cmap='Blues', xticklabels=vehicle_classes, yticklabels=vehicle_classes)\n",
        "    plt.xlabel('Predicted Label')\n",
        "    plt.ylabel('True Label')\n",
        "    plt.title('Confusion Matrix')\n",
        "    plt.show()\n",
        "\n",
        "# Evaluate the model after training\n",
        "evaluate_model(model, train_loader)  # Or use validation_loader if available\n"
      ]
    }
  ],
  "metadata": {
    "accelerator": "GPU",
    "colab": {
      "gpuType": "T4",
      "provenance": []
    },
    "kernelspec": {
      "display_name": "Python 3",
      "name": "python3"
    },
    "language_info": {
      "name": "python"
    }
  },
  "nbformat": 4,
  "nbformat_minor": 0
}