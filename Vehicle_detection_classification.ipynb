{
  "cells": [
    {
      "cell_type": "code",
      "execution_count": null,
      "metadata": {
        "colab": {
          "base_uri": "https://localhost:8080/"
        },
        "id": "fUMWJ0aR17tO",
        "outputId": "164f44d3-85e0-486a-9fa5-6379d4788e83"
      },
      "outputs": [
        {
          "output_type": "stream",
          "name": "stderr",
          "text": [
            "Using cache found in /root/.cache/torch/hub/ultralytics_yolov5_master\n",
            "YOLOv5 🚀 2024-11-4 Python-3.10.12 torch-2.5.0+cu121 CPU\n",
            "\n",
            "Fusing layers... \n",
            "YOLOv5s summary: 213 layers, 7225885 parameters, 0 gradients, 16.4 GFLOPs\n",
            "Adding AutoShape... \n"
          ]
        }
      ],
      "source": [
        "import cv2\n",
        "import torch\n",
        "import numpy as np\n",
        "from sklearn.metrics import accuracy_score, confusion_matrix, classification_report\n",
        "from collections import defaultdict\n",
        "import random\n",
        "import seaborn as sns\n",
        "import matplotlib.pyplot as plt\n",
        "# Load YOLOv5 model (using pretrained COCO weights, modify for your use-case)\n",
        "model = torch.hub.load('ultralytics/yolov5', 'yolov5s', pretrained=True)"
      ]
    },
    {
      "cell_type": "code",
      "execution_count": null,
      "metadata": {
        "id": "tzm2qXXj1-0O"
      },
      "outputs": [],
      "source": [
        "# Define the classes we're interested in (e.g., cars, buses, trucks, motorbikes)\n",
        "vehicle_classes = ['car', 'bus', 'truck', 'motorbike', 'motorcycle']\n",
        "\n",
        "# Colors for each vehicle type\n",
        "color_map = {\n",
        "    'car': (255, 0, 0),        # Blue for cars\n",
        "    'bus': (0, 255, 255),      # Yellow for buses\n",
        "    'truck': (0, 0, 255),      # Red for trucks\n",
        "    'motorbike': (0, 255, 0),  # Green for motorbikes\n",
        "    'motorcycle': (0, 255, 0)  # Green for motorcycles (if labeled as such)\n",
        "}\n",
        "\n",
        "# Initialize variables for counting and storing detections\n",
        "vehicle_count = defaultdict(int)\n",
        "all_detections = []"
      ]
    },
    {
      "cell_type": "code",
      "execution_count": null,
      "metadata": {
        "id": "WOAHffOb2Bxr"
      },
      "outputs": [],
      "source": [
        "# Function to classify and count vehicles\n",
        "def process_frame(frame):\n",
        "    # Run detection\n",
        "    results = model(frame)\n",
        "\n",
        "    # Filter and process results\n",
        "    detections = results.pandas().xyxy[0]  # Bounding box coordinates\n",
        "\n",
        "    # Filter by vehicle classes\n",
        "    vehicles = detections[detections['name'].isin(vehicle_classes)]\n",
        "\n",
        "    # Count each vehicle type and draw bounding boxes with specific colors\n",
        "    frame_vehicle_count = defaultdict(int)\n",
        "    for _, row in vehicles.iterrows():\n",
        "        vehicle_type = row['name']\n",
        "        confidence = row['confidence']  # Get the confidence score\n",
        "        frame_vehicle_count[vehicle_type] += 1\n",
        "        vehicle_count[vehicle_type] += 1\n",
        "\n",
        "        # Get bounding box coordinates and choose color\n",
        "        x1, y1, x2, y2 = int(row['xmin']), int(row['ymin']), int(row['xmax']), int(row['ymax'])\n",
        "        color = color_map.get(vehicle_type, (255, 255, 255))  # Default color if not found\n",
        "\n",
        "        # Draw bounding box and label with smaller font and new font style\n",
        "        cv2.rectangle(frame, (x1, y1), (x2, y2), color, 2)\n",
        "        font = cv2.FONT_HERSHEY_COMPLEX_SMALL  # Change font style here\n",
        "        font_scale = 0.6\n",
        "        font_thickness = 1\n",
        "\n",
        "        # Format confidence to two decimal places\n",
        "        confidence_text = f\"{vehicle_type} ({confidence:.2f})\"\n",
        "        cv2.putText(frame, confidence_text, (x1, y1 - 10), font, font_scale, color, font_thickness)\n",
        "\n",
        "        # Record for evaluation metrics\n",
        "        all_detections.append({\n",
        "            'class': vehicle_type,\n",
        "            'confidence': confidence,\n",
        "            'xmin': x1, 'ymin': y1, 'xmax': x2, 'ymax': y2\n",
        "        })\n",
        "\n",
        "    return frame, frame_vehicle_count"
      ]
    },
    {
      "cell_type": "code",
      "execution_count": null,
      "metadata": {
        "id": "mrjNtbla2H-j"
      },
      "outputs": [],
      "source": [
        "# Video processing function with frame count below each frame\n",
        "def process_video(input_path, output_path):\n",
        "    # Load video\n",
        "    cap = cv2.VideoCapture(input_path)\n",
        "    width = int(cap.get(cv2.CAP_PROP_FRAME_WIDTH))\n",
        "    height = int(cap.get(cv2.CAP_PROP_FRAME_HEIGHT))\n",
        "    fps = int(cap.get(cv2.CAP_PROP_FPS))\n",
        "\n",
        "    # Define video writer for output, with added space for frame count\n",
        "    frame_count_height = 30\n",
        "    total_height = height + frame_count_height\n",
        "    fourcc = cv2.VideoWriter_fourcc(*'mp4v')\n",
        "    out = cv2.VideoWriter(output_path, fourcc, fps, (width, total_height))\n",
        "\n",
        "    frame_number = 0\n",
        "\n",
        "    while cap.isOpened():\n",
        "        ret, frame = cap.read()\n",
        "        if not ret:\n",
        "            break\n",
        "\n",
        "        # Process frame\n",
        "        frame, frame_vehicle_count = process_frame(frame)\n",
        "\n",
        "        # Create a black area below the frame for displaying frame count\n",
        "        frame_with_count = np.zeros((total_height, width, 3), dtype=np.uint8)\n",
        "        frame_with_count[:height, :] = frame\n",
        "\n",
        "        # Display the frame count in the black area below the frame\n",
        "        frame_number += 1\n",
        "        font = cv2.FONT_HERSHEY_COMPLEX_SMALL\n",
        "        font_scale = 0.8\n",
        "        font_thickness = 1\n",
        "        text = f\"Frame: {frame_number}\"\n",
        "        text_size, _ = cv2.getTextSize(text, font, font_scale, font_thickness)\n",
        "        text_x = (width - text_size[0]) // 2\n",
        "        text_y = height + (frame_count_height + text_size[1]) // 2\n",
        "        cv2.putText(frame_with_count, text, (text_x, text_y), font, font_scale, (255, 255, 255), font_thickness)\n",
        "\n",
        "        # Write processed frame to output\n",
        "        out.write(frame_with_count)\n",
        "\n",
        "        # Display the frame with count\n",
        "        from google.colab.patches import cv2_imshow\n",
        "        cv2_imshow(frame_with_count)\n",
        "        print(\"Vehicle count in frame:\", frame_vehicle_count)\n",
        "\n",
        "        # Press 'q' to exit early\n",
        "        if cv2.waitKey(1) & 0xFF == ord('q'):\n",
        "            break\n",
        "\n",
        "    cap.release()\n",
        "    out.release()\n",
        "    cv2.destroyAllWindows()"
      ]
    },
    {
      "cell_type": "code",
      "execution_count": null,
      "metadata": {
        "id": "NtootVAZ2UMX"
      },
      "outputs": [],
      "source": [
        "# Run the project\n",
        "input_video_path = '/content/input_video.mp4'  # Path to your input video\n",
        "output_video_path = 'output_video.mp4'  # Path to save output video\n",
        "\n",
        "# Process the video\n",
        "process_video(input_video_path, output_video_path)"
      ]
    },
    {
      "cell_type": "code",
      "execution_count": null,
      "metadata": {
        "id": "aHFd0JPk2M5W",
        "colab": {
          "base_uri": "https://localhost:8080/"
        },
        "outputId": "0760da0a-8af3-4b1b-afeb-1c66eeff1115"
      },
      "outputs": [
        {
          "output_type": "stream",
          "name": "stdout",
          "text": [
            "Confusion Matrix:\n",
            " [[3202   23   61    0    9]\n",
            " [  77  794   60    0    7]\n",
            " [  83   23 2415    0    9]\n",
            " [  91   17   90    0    4]\n",
            " [  99   18   71    0  332]]\n",
            "Accuracy: 0.9008684034736139\n",
            "Classification Report:\n",
            "               precision    recall  f1-score   support\n",
            "\n",
            "         car       0.90      0.97      0.94      3295\n",
            "       truck       0.91      0.85      0.88       938\n",
            "  motorcycle       0.90      0.95      0.92      2530\n",
            "   motorbike       0.00      0.00      0.00       202\n",
            "         bus       0.92      0.64      0.75       520\n",
            "\n",
            "    accuracy                           0.90      7485\n",
            "   macro avg       0.72      0.68      0.70      7485\n",
            "weighted avg       0.88      0.90      0.89      7485\n",
            "\n"
          ]
        }
      ],
      "source": [
        "# Function to simulate ground truth labels for demonstration purposes\n",
        "def simulate_ground_truth(predictions):\n",
        "    true_labels = []\n",
        "    for label in predictions:\n",
        "        # Simulate slight deviations from model predictions\n",
        "        if random.random() < 0.9:  # 90% chance of keeping the label the same\n",
        "            true_labels.append(label)\n",
        "        else:\n",
        "            # Randomly change to a different class to simulate ground truth variation\n",
        "            other_classes = [cls for cls in vehicle_classes if cls != label]\n",
        "            true_labels.append(random.choice(other_classes))\n",
        "    return true_labels\n",
        "\n",
        "# Evaluation function with simulated ground truth\n",
        "def evaluate_model():\n",
        "    pred_labels = [detection['class'] for detection in all_detections]\n",
        "\n",
        "    # Simulate ground truth for evaluation\n",
        "    true_labels = simulate_ground_truth(pred_labels)\n",
        "\n",
        "    # Get unique labels in predictions to match the classification report expectations\n",
        "    unique_labels = list(set(true_labels + pred_labels))\n",
        "\n",
        "    # Confusion Matrix and Accuracy\n",
        "    conf_matrix = confusion_matrix(true_labels, pred_labels, labels=unique_labels)\n",
        "    accuracy = accuracy_score(true_labels, pred_labels)\n",
        "    report = classification_report(true_labels, pred_labels, labels=unique_labels, target_names=unique_labels)\n",
        "\n",
        "    print(\"Confusion Matrix:\\n\", conf_matrix)\n",
        "    print(\"Accuracy:\", accuracy)\n",
        "    print(\"Classification Report:\\n\", report)\n",
        "\n",
        "# Evaluate the model with simulated ground truth\n",
        "evaluate_model()"
      ]
    }
  ],
  "metadata": {
    "colab": {
      "provenance": []
    },
    "kernelspec": {
      "display_name": "Python 3",
      "name": "python3"
    },
    "language_info": {
      "name": "python"
    }
  },
  "nbformat": 4,
  "nbformat_minor": 0
}